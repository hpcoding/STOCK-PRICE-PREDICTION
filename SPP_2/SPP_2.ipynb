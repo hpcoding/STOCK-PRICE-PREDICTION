{
 "cells": [
  {
   "cell_type": "code",
   "execution_count": 1,
   "id": "730a969e",
   "metadata": {},
   "outputs": [],
   "source": [
    "import numpy as np\n",
    "import pandas as pd\n",
    "import matplotlib.pyplot as plt\n",
    "import pandas_datareader as pdr\n",
    "import datetime as datetime\n",
    "from yahoofinancials import YahooFinancials\n"
   ]
  },
  {
   "cell_type": "code",
   "execution_count": 2,
   "id": "346e668e",
   "metadata": {},
   "outputs": [
    {
     "name": "stdout",
     "output_type": "stream",
     "text": [
      "[*********************100%***********************]  1 of 1 completed\n"
     ]
    },
    {
     "data": {
      "text/html": [
       "<div>\n",
       "<style scoped>\n",
       "    .dataframe tbody tr th:only-of-type {\n",
       "        vertical-align: middle;\n",
       "    }\n",
       "\n",
       "    .dataframe tbody tr th {\n",
       "        vertical-align: top;\n",
       "    }\n",
       "\n",
       "    .dataframe thead th {\n",
       "        text-align: right;\n",
       "    }\n",
       "</style>\n",
       "<table border=\"1\" class=\"dataframe\">\n",
       "  <thead>\n",
       "    <tr style=\"text-align: right;\">\n",
       "      <th></th>\n",
       "      <th>Open</th>\n",
       "      <th>High</th>\n",
       "      <th>Low</th>\n",
       "      <th>Close</th>\n",
       "      <th>Adj Close</th>\n",
       "      <th>Volume</th>\n",
       "    </tr>\n",
       "    <tr>\n",
       "      <th>Date</th>\n",
       "      <th></th>\n",
       "      <th></th>\n",
       "      <th></th>\n",
       "      <th></th>\n",
       "      <th></th>\n",
       "      <th></th>\n",
       "    </tr>\n",
       "  </thead>\n",
       "  <tbody>\n",
       "    <tr>\n",
       "      <th>2009-12-31</th>\n",
       "      <td>7.611786</td>\n",
       "      <td>7.619643</td>\n",
       "      <td>7.520000</td>\n",
       "      <td>7.526071</td>\n",
       "      <td>6.444381</td>\n",
       "      <td>352410800</td>\n",
       "    </tr>\n",
       "    <tr>\n",
       "      <th>2010-01-04</th>\n",
       "      <td>7.622500</td>\n",
       "      <td>7.660714</td>\n",
       "      <td>7.585000</td>\n",
       "      <td>7.643214</td>\n",
       "      <td>6.544688</td>\n",
       "      <td>493729600</td>\n",
       "    </tr>\n",
       "    <tr>\n",
       "      <th>2010-01-05</th>\n",
       "      <td>7.664286</td>\n",
       "      <td>7.699643</td>\n",
       "      <td>7.616071</td>\n",
       "      <td>7.656429</td>\n",
       "      <td>6.556001</td>\n",
       "      <td>601904800</td>\n",
       "    </tr>\n",
       "    <tr>\n",
       "      <th>2010-01-06</th>\n",
       "      <td>7.656429</td>\n",
       "      <td>7.686786</td>\n",
       "      <td>7.526786</td>\n",
       "      <td>7.534643</td>\n",
       "      <td>6.451720</td>\n",
       "      <td>552160000</td>\n",
       "    </tr>\n",
       "    <tr>\n",
       "      <th>2010-01-07</th>\n",
       "      <td>7.562500</td>\n",
       "      <td>7.571429</td>\n",
       "      <td>7.466071</td>\n",
       "      <td>7.520714</td>\n",
       "      <td>6.439792</td>\n",
       "      <td>477131200</td>\n",
       "    </tr>\n",
       "  </tbody>\n",
       "</table>\n",
       "</div>"
      ],
      "text/plain": [
       "                Open      High       Low     Close  Adj Close     Volume\n",
       "Date                                                                    \n",
       "2009-12-31  7.611786  7.619643  7.520000  7.526071   6.444381  352410800\n",
       "2010-01-04  7.622500  7.660714  7.585000  7.643214   6.544688  493729600\n",
       "2010-01-05  7.664286  7.699643  7.616071  7.656429   6.556001  601904800\n",
       "2010-01-06  7.656429  7.686786  7.526786  7.534643   6.451720  552160000\n",
       "2010-01-07  7.562500  7.571429  7.466071  7.520714   6.439792  477131200"
      ]
     },
     "execution_count": 2,
     "metadata": {},
     "output_type": "execute_result"
    }
   ],
   "source": [
    "import yfinance as yf\n",
    "\n",
    "\n",
    "stocks = [\"AAPL\"]\n",
    "start = datetime.datetime(2010,1,1)\n",
    "end = datetime.datetime(2022,4,20)\n",
    "\n",
    "df = yf.download(stocks, start=start, end=end)\n",
    "\n",
    "df.head ()"
   ]
  },
  {
   "cell_type": "code",
   "execution_count": 3,
   "id": "4df570b0",
   "metadata": {},
   "outputs": [
    {
     "data": {
      "text/plain": [
       "(3096, 6)"
      ]
     },
     "execution_count": 3,
     "metadata": {},
     "output_type": "execute_result"
    }
   ],
   "source": [
    "df.shape"
   ]
  },
  {
   "cell_type": "code",
   "execution_count": 4,
   "id": "8002657a",
   "metadata": {},
   "outputs": [
    {
     "data": {
      "text/plain": [
       "<bound method NDFrame.tail of                   Open        High         Low       Close   Adj Close  \\\n",
       "Date                                                                     \n",
       "2009-12-31    7.611786    7.619643    7.520000    7.526071    6.444381   \n",
       "2010-01-04    7.622500    7.660714    7.585000    7.643214    6.544688   \n",
       "2010-01-05    7.664286    7.699643    7.616071    7.656429    6.556001   \n",
       "2010-01-06    7.656429    7.686786    7.526786    7.534643    6.451720   \n",
       "2010-01-07    7.562500    7.571429    7.466071    7.520714    6.439792   \n",
       "...                ...         ...         ...         ...         ...   \n",
       "2022-04-12  168.020004  169.869995  166.639999  167.660004  167.660004   \n",
       "2022-04-13  167.389999  171.039993  166.770004  170.399994  170.399994   \n",
       "2022-04-14  170.619995  171.270004  165.039993  165.289993  165.289993   \n",
       "2022-04-18  163.919998  166.600006  163.570007  165.070007  165.070007   \n",
       "2022-04-19  165.020004  167.820007  163.910004  167.399994  167.399994   \n",
       "\n",
       "               Volume  \n",
       "Date                   \n",
       "2009-12-31  352410800  \n",
       "2010-01-04  493729600  \n",
       "2010-01-05  601904800  \n",
       "2010-01-06  552160000  \n",
       "2010-01-07  477131200  \n",
       "...               ...  \n",
       "2022-04-12   79265200  \n",
       "2022-04-13   70618900  \n",
       "2022-04-14   75237500  \n",
       "2022-04-18   69023900  \n",
       "2022-04-19   67723800  \n",
       "\n",
       "[3096 rows x 6 columns]>"
      ]
     },
     "execution_count": 4,
     "metadata": {},
     "output_type": "execute_result"
    }
   ],
   "source": [
    "df.tail"
   ]
  },
  {
   "cell_type": "code",
   "execution_count": 5,
   "id": "0df12ebc",
   "metadata": {},
   "outputs": [
    {
     "data": {
      "text/html": [
       "<div>\n",
       "<style scoped>\n",
       "    .dataframe tbody tr th:only-of-type {\n",
       "        vertical-align: middle;\n",
       "    }\n",
       "\n",
       "    .dataframe tbody tr th {\n",
       "        vertical-align: top;\n",
       "    }\n",
       "\n",
       "    .dataframe thead th {\n",
       "        text-align: right;\n",
       "    }\n",
       "</style>\n",
       "<table border=\"1\" class=\"dataframe\">\n",
       "  <thead>\n",
       "    <tr style=\"text-align: right;\">\n",
       "      <th></th>\n",
       "      <th>Date</th>\n",
       "      <th>Open</th>\n",
       "      <th>High</th>\n",
       "      <th>Low</th>\n",
       "      <th>Close</th>\n",
       "      <th>Adj Close</th>\n",
       "      <th>Volume</th>\n",
       "    </tr>\n",
       "  </thead>\n",
       "  <tbody>\n",
       "    <tr>\n",
       "      <th>0</th>\n",
       "      <td>2009-12-31</td>\n",
       "      <td>7.611786</td>\n",
       "      <td>7.619643</td>\n",
       "      <td>7.520000</td>\n",
       "      <td>7.526071</td>\n",
       "      <td>6.444381</td>\n",
       "      <td>352410800</td>\n",
       "    </tr>\n",
       "    <tr>\n",
       "      <th>1</th>\n",
       "      <td>2010-01-04</td>\n",
       "      <td>7.622500</td>\n",
       "      <td>7.660714</td>\n",
       "      <td>7.585000</td>\n",
       "      <td>7.643214</td>\n",
       "      <td>6.544688</td>\n",
       "      <td>493729600</td>\n",
       "    </tr>\n",
       "    <tr>\n",
       "      <th>2</th>\n",
       "      <td>2010-01-05</td>\n",
       "      <td>7.664286</td>\n",
       "      <td>7.699643</td>\n",
       "      <td>7.616071</td>\n",
       "      <td>7.656429</td>\n",
       "      <td>6.556001</td>\n",
       "      <td>601904800</td>\n",
       "    </tr>\n",
       "    <tr>\n",
       "      <th>3</th>\n",
       "      <td>2010-01-06</td>\n",
       "      <td>7.656429</td>\n",
       "      <td>7.686786</td>\n",
       "      <td>7.526786</td>\n",
       "      <td>7.534643</td>\n",
       "      <td>6.451720</td>\n",
       "      <td>552160000</td>\n",
       "    </tr>\n",
       "    <tr>\n",
       "      <th>4</th>\n",
       "      <td>2010-01-07</td>\n",
       "      <td>7.562500</td>\n",
       "      <td>7.571429</td>\n",
       "      <td>7.466071</td>\n",
       "      <td>7.520714</td>\n",
       "      <td>6.439792</td>\n",
       "      <td>477131200</td>\n",
       "    </tr>\n",
       "  </tbody>\n",
       "</table>\n",
       "</div>"
      ],
      "text/plain": [
       "        Date      Open      High       Low     Close  Adj Close     Volume\n",
       "0 2009-12-31  7.611786  7.619643  7.520000  7.526071   6.444381  352410800\n",
       "1 2010-01-04  7.622500  7.660714  7.585000  7.643214   6.544688  493729600\n",
       "2 2010-01-05  7.664286  7.699643  7.616071  7.656429   6.556001  601904800\n",
       "3 2010-01-06  7.656429  7.686786  7.526786  7.534643   6.451720  552160000\n",
       "4 2010-01-07  7.562500  7.571429  7.466071  7.520714   6.439792  477131200"
      ]
     },
     "execution_count": 5,
     "metadata": {},
     "output_type": "execute_result"
    }
   ],
   "source": [
    "df = df.reset_index()\n",
    "df.head()\n"
   ]
  },
  {
   "cell_type": "code",
   "execution_count": 6,
   "id": "c89ba9ee",
   "metadata": {},
   "outputs": [
    {
     "data": {
      "text/plain": [
       "[<matplotlib.lines.Line2D at 0x241780095e0>]"
      ]
     },
     "execution_count": 6,
     "metadata": {},
     "output_type": "execute_result"
    },
    {
     "data": {
      "image/png": "[encoded data removed]",
      "text/plain": [
       "<Figure size 432x288 with 1 Axes>"
      ]
     },
     "metadata": {
      "needs_background": "light"
     },
     "output_type": "display_data"
    }
   ],
   "source": [
    "plt.plot(df.Close)"
   ]
  },
  {
   "cell_type": "code",
   "execution_count": 7,
   "id": "f29932aa",
   "metadata": {},
   "outputs": [
    {
     "data": {
      "text/plain": [
       "0            NaN\n",
       "1            NaN\n",
       "2            NaN\n",
       "3            NaN\n",
       "4            NaN\n",
       "          ...   \n",
       "3091    169.0472\n",
       "3092    169.1725\n",
       "3093    169.2199\n",
       "3094    169.2604\n",
       "3095    169.3203\n",
       "Name: Close, Length: 3096, dtype: float64"
      ]
     },
     "execution_count": 7,
     "metadata": {},
     "output_type": "execute_result"
    }
   ],
   "source": [
    "ma100 = df.Close.rolling(100).mean()\n",
    "ma100"
   ]
  },
  {
   "cell_type": "code",
   "execution_count": 8,
   "id": "98d73a6f",
   "metadata": {},
   "outputs": [
    {
     "data": {
      "text/plain": [
       "[<matplotlib.lines.Line2D at 0x241797e13a0>]"
      ]
     },
     "execution_count": 8,
     "metadata": {},
     "output_type": "execute_result"
    },
    {
     "data": {
      "image/png": "[encoded data removed]",
      "text/plain": [
       "<Figure size 864x432 with 1 Axes>"
      ]
     },
     "metadata": {
      "needs_background": "light"
     },
     "output_type": "display_data"
    }
   ],
   "source": [
    "plt.figure(figsize = (12,6))\n",
    "plt.plot(df.Close)\n",
    "plt.plot (ma100, 'r')\n"
   ]
  },
  {
   "cell_type": "code",
   "execution_count": 9,
   "id": "f6596504",
   "metadata": {},
   "outputs": [
    {
     "data": {
      "text/plain": [
       "0             NaN\n",
       "1             NaN\n",
       "2             NaN\n",
       "3             NaN\n",
       "4             NaN\n",
       "          ...    \n",
       "3091    158.05675\n",
       "3092    158.22710\n",
       "3093    158.36875\n",
       "3094    158.50775\n",
       "3095    158.64495\n",
       "Name: Close, Length: 3096, dtype: float64"
      ]
     },
     "execution_count": 9,
     "metadata": {},
     "output_type": "execute_result"
    }
   ],
   "source": [
    "ma200 = df.Close.rolling(200).mean()\n",
    "ma200"
   ]
  },
  {
   "cell_type": "code",
   "execution_count": 10,
   "id": "20ff090d",
   "metadata": {},
   "outputs": [
    {
     "data": {
      "text/plain": [
       "[<matplotlib.lines.Line2D at 0x24179851ca0>]"
      ]
     },
     "execution_count": 10,
     "metadata": {},
     "output_type": "execute_result"
    },
    {
     "data": {
      "image/png": "[encoded data removed]",
      "text/plain": [
       "<Figure size 864x432 with 1 Axes>"
      ]
     },
     "metadata": {
      "needs_background": "light"
     },
     "output_type": "display_data"
    }
   ],
   "source": [
    "plt.figure(figsize = (12,6))\n",
    "plt.plot(df.Close)\n",
    "plt.plot (ma100, 'r')\n",
    "plt.plot(ma200,'g')"
   ]
  },
  {
   "cell_type": "code",
   "execution_count": 11,
   "id": "10384d3c",
   "metadata": {},
   "outputs": [
    {
     "name": "stdout",
     "output_type": "stream",
     "text": [
      "(1857, 1)\n",
      "(1239, 1)\n"
     ]
    }
   ],
   "source": [
    "# Splitting data\n",
    "data_training = pd.DataFrame(df['Close'][0:int(len(df)*0.60)])\n",
    "data_testing = pd.DataFrame (df['Close'][int(len(df)*.60): int(len(df))])\n",
    "print(data_training.shape)\n",
    "print(data_testing.shape)\n"
   ]
  },
  {
   "cell_type": "code",
   "execution_count": 12,
   "id": "2964ecee",
   "metadata": {},
   "outputs": [
    {
     "data": {
      "text/html": [
       "<div>\n",
       "<style scoped>\n",
       "    .dataframe tbody tr th:only-of-type {\n",
       "        vertical-align: middle;\n",
       "    }\n",
       "\n",
       "    .dataframe tbody tr th {\n",
       "        vertical-align: top;\n",
       "    }\n",
       "\n",
       "    .dataframe thead th {\n",
       "        text-align: right;\n",
       "    }\n",
       "</style>\n",
       "<table border=\"1\" class=\"dataframe\">\n",
       "  <thead>\n",
       "    <tr style=\"text-align: right;\">\n",
       "      <th></th>\n",
       "      <th>Close</th>\n",
       "    </tr>\n",
       "  </thead>\n",
       "  <tbody>\n",
       "    <tr>\n",
       "      <th>0</th>\n",
       "      <td>7.526071</td>\n",
       "    </tr>\n",
       "    <tr>\n",
       "      <th>1</th>\n",
       "      <td>7.643214</td>\n",
       "    </tr>\n",
       "    <tr>\n",
       "      <th>2</th>\n",
       "      <td>7.656429</td>\n",
       "    </tr>\n",
       "    <tr>\n",
       "      <th>3</th>\n",
       "      <td>7.534643</td>\n",
       "    </tr>\n",
       "    <tr>\n",
       "      <th>4</th>\n",
       "      <td>7.520714</td>\n",
       "    </tr>\n",
       "  </tbody>\n",
       "</table>\n",
       "</div>"
      ],
      "text/plain": [
       "      Close\n",
       "0  7.526071\n",
       "1  7.643214\n",
       "2  7.656429\n",
       "3  7.534643\n",
       "4  7.520714"
      ]
     },
     "execution_count": 12,
     "metadata": {},
     "output_type": "execute_result"
    }
   ],
   "source": [
    "data_training.head()"
   ]
  },
  {
   "cell_type": "code",
   "execution_count": 13,
   "id": "e86f0fff",
   "metadata": {},
   "outputs": [
    {
     "data": {
      "text/html": [
       "<div>\n",
       "<style scoped>\n",
       "    .dataframe tbody tr th:only-of-type {\n",
       "        vertical-align: middle;\n",
       "    }\n",
       "\n",
       "    .dataframe tbody tr th {\n",
       "        vertical-align: top;\n",
       "    }\n",
       "\n",
       "    .dataframe thead th {\n",
       "        text-align: right;\n",
       "    }\n",
       "</style>\n",
       "<table border=\"1\" class=\"dataframe\">\n",
       "  <thead>\n",
       "    <tr style=\"text-align: right;\">\n",
       "      <th></th>\n",
       "      <th>Close</th>\n",
       "    </tr>\n",
       "  </thead>\n",
       "  <tbody>\n",
       "    <tr>\n",
       "      <th>1857</th>\n",
       "      <td>38.134998</td>\n",
       "    </tr>\n",
       "    <tr>\n",
       "      <th>1858</th>\n",
       "      <td>38.264999</td>\n",
       "    </tr>\n",
       "    <tr>\n",
       "      <th>1859</th>\n",
       "      <td>38.497501</td>\n",
       "    </tr>\n",
       "    <tr>\n",
       "      <th>1860</th>\n",
       "      <td>38.450001</td>\n",
       "    </tr>\n",
       "    <tr>\n",
       "      <th>1861</th>\n",
       "      <td>38.334999</td>\n",
       "    </tr>\n",
       "  </tbody>\n",
       "</table>\n",
       "</div>"
      ],
      "text/plain": [
       "          Close\n",
       "1857  38.134998\n",
       "1858  38.264999\n",
       "1859  38.497501\n",
       "1860  38.450001\n",
       "1861  38.334999"
      ]
     },
     "execution_count": 13,
     "metadata": {},
     "output_type": "execute_result"
    }
   ],
   "source": [
    "data_testing.head()"
   ]
  },
  {
   "cell_type": "code",
   "execution_count": 14,
   "id": "cb7927df",
   "metadata": {},
   "outputs": [],
   "source": [
    "from sklearn.preprocessing import MinMaxScaler\n",
    "scaler = MinMaxScaler(feature_range=(0,1))"
   ]
  },
  {
   "cell_type": "code",
   "execution_count": 15,
   "id": "abfee89b",
   "metadata": {},
   "outputs": [
    {
     "data": {
      "text/plain": [
       "array([[0.02074055],\n",
       "       [0.02438237],\n",
       "       [0.02479319],\n",
       "       ...,\n",
       "       [0.99689106],\n",
       "       [0.9951035 ],\n",
       "       [0.95453279]])"
      ]
     },
     "execution_count": 15,
     "metadata": {},
     "output_type": "execute_result"
    }
   ],
   "source": [
    "data_training_array = scaler.fit_transform(data_training)\n",
    "data_training_array\n",
    "\n"
   ]
  },
  {
   "cell_type": "code",
   "execution_count": 16,
   "id": "85ae6870",
   "metadata": {},
   "outputs": [],
   "source": [
    "x_train = []\n",
    "y_train = []\n",
    "\n",
    "for i in range(100,data_training_array.shape[0]):\n",
    "    x_train.append(data_training_array[i-100: i])\n",
    "    y_train.append(data_training_array[i, 0])\n",
    " \n",
    "x_train,y_train = np.array(x_train), np.array(y_train)\n"
   ]
  },
  {
   "cell_type": "code",
   "execution_count": 17,
   "id": "3c4838fd",
   "metadata": {},
   "outputs": [
    {
     "data": {
      "text/plain": [
       "(1757, 100, 1)"
      ]
     },
     "execution_count": 17,
     "metadata": {},
     "output_type": "execute_result"
    }
   ],
   "source": [
    " x_train.shape\n"
   ]
  },
  {
   "cell_type": "code",
   "execution_count": 18,
   "id": "b0295768",
   "metadata": {},
   "outputs": [],
   "source": [
    "from keras.layers import Dense, Dropout, LSTM\n",
    "from keras.models import Sequential \n"
   ]
  },
  {
   "cell_type": "code",
   "execution_count": 19,
   "id": "d346c91c",
   "metadata": {},
   "outputs": [],
   "source": [
    "model = Sequential()\n",
    "model.add(LSTM(units = 50, activation = 'relu', return_sequences = True,\n",
    "          input_shape = (x_train.shape[1], 1)))\n",
    "model.add (Dropout (0.2))\n",
    "\n",
    "model.add(LSTM(units = 60, activation = 'relu', return_sequences = True))\n",
    "model.add(Dropout (0.3))\n",
    "\n",
    "model.add(LSTM(units = 80, activation = 'relu', return_sequences = True))\n",
    "model.add(Dropout (0.4))\n",
    "\n",
    "model.add (LSTM(units = 120, activation = 'relu'))\n",
    "model.add(Dropout (0.5))\n",
    "\n",
    "model.add(Dense(units = 1))\n",
    "\n",
    "\n"
   ]
  },
  {
   "cell_type": "code",
   "execution_count": 20,
   "id": "71ef7686",
   "metadata": {},
   "outputs": [
    {
     "name": "stdout",
     "output_type": "stream",
     "text": [
      "Model: \"sequential\"\n",
      "_________________________________________________________________\n",
      " Layer (type)                Output Shape              Param #   \n",
      "=================================================================\n",
      " lstm (LSTM)                 (None, 100, 50)           10400     \n",
      "                                                                 \n",
      " dropout (Dropout)           (None, 100, 50)           0         \n",
      "                                                                 \n",
      " lstm_1 (LSTM)               (None, 100, 60)           26640     \n",
      "                                                                 \n",
      " dropout_1 (Dropout)         (None, 100, 60)           0         \n",
      "                                                                 \n",
      " lstm_2 (LSTM)               (None, 100, 80)           45120     \n",
      "                                                                 \n",
      " dropout_2 (Dropout)         (None, 100, 80)           0         \n",
      "                                                                 \n",
      " lstm_3 (LSTM)               (None, 120)               96480     \n",
      "                                                                 \n",
      " dropout_3 (Dropout)         (None, 120)               0         \n",
      "                                                                 \n",
      " dense (Dense)               (None, 1)                 121       \n",
      "                                                                 \n",
      "=================================================================\n",
      "Total params: 178,761\n",
      "Trainable params: 178,761\n",
      "Non-trainable params: 0\n",
      "_________________________________________________________________\n"
     ]
    }
   ],
   "source": [
    "model.summary()"
   ]
  },
  {
   "cell_type": "code",
   "execution_count": 21,
   "id": "dea271df",
   "metadata": {},
   "outputs": [
    {
     "name": "stdout",
     "output_type": "stream",
     "text": [
      "Epoch 1/100\n",
      "55/55 [==============================] - 14s 172ms/step - loss: 0.0553\n",
      "Epoch 2/100\n",
      "55/55 [==============================] - 9s 171ms/step - loss: 0.0109\n",
      "Epoch 3/100\n",
      "55/55 [==============================] - 11s 200ms/step - loss: 0.0094\n",
      "Epoch 4/100\n",
      "55/55 [==============================] - 11s 195ms/step - loss: 0.0079\n",
      "Epoch 5/100\n",
      "55/55 [==============================] - 11s 196ms/step - loss: 0.0073\n",
      "Epoch 6/100\n",
      "55/55 [==============================] - 10s 174ms/step - loss: 0.0067\n",
      "Epoch 7/100\n",
      "55/55 [==============================] - 11s 198ms/step - loss: 0.0068\n",
      "Epoch 8/100\n",
      "55/55 [==============================] - 10s 180ms/step - loss: 0.0069\n",
      "Epoch 9/100\n",
      "55/55 [==============================] - 11s 194ms/step - loss: 0.0060\n",
      "Epoch 10/100\n",
      "55/55 [==============================] - 13s 226ms/step - loss: 0.0056\n",
      "Epoch 11/100\n",
      "55/55 [==============================] - 9s 172ms/step - loss: 0.0056\n",
      "Epoch 12/100\n",
      "55/55 [==============================] - 10s 181ms/step - loss: 0.0058\n",
      "Epoch 13/100\n",
      "55/55 [==============================] - 10s 178ms/step - loss: 0.0052\n",
      "Epoch 14/100\n",
      "55/55 [==============================] - 13s 232ms/step - loss: 0.0047\n",
      "Epoch 15/100\n",
      "55/55 [==============================] - 12s 214ms/step - loss: 0.0048\n",
      "Epoch 16/100\n",
      "55/55 [==============================] - 11s 191ms/step - loss: 0.0047\n",
      "Epoch 17/100\n",
      "55/55 [==============================] - 11s 195ms/step - loss: 0.0051\n",
      "Epoch 18/100\n",
      "55/55 [==============================] - 11s 197ms/step - loss: 0.0047\n",
      "Epoch 19/100\n",
      "55/55 [==============================] - 11s 206ms/step - loss: 0.0048\n",
      "Epoch 20/100\n",
      "55/55 [==============================] - 10s 182ms/step - loss: 0.0044\n",
      "Epoch 21/100\n",
      "55/55 [==============================] - 11s 198ms/step - loss: 0.0043\n",
      "Epoch 22/100\n",
      "55/55 [==============================] - 11s 194ms/step - loss: 0.0040\n",
      "Epoch 23/100\n",
      "55/55 [==============================] - 11s 192ms/step - loss: 0.0039\n",
      "Epoch 24/100\n",
      "55/55 [==============================] - 11s 201ms/step - loss: 0.0038\n",
      "Epoch 25/100\n",
      "55/55 [==============================] - 12s 213ms/step - loss: 0.0039\n",
      "Epoch 26/100\n",
      "55/55 [==============================] - 14s 248ms/step - loss: 0.0032\n",
      "Epoch 27/100\n",
      "55/55 [==============================] - 15s 269ms/step - loss: 0.0033\n",
      "Epoch 28/100\n",
      "55/55 [==============================] - 11s 206ms/step - loss: 0.0034\n",
      "Epoch 29/100\n",
      "55/55 [==============================] - 11s 194ms/step - loss: 0.0031\n",
      "Epoch 30/100\n",
      "55/55 [==============================] - 11s 208ms/step - loss: 0.0033\n",
      "Epoch 31/100\n",
      "55/55 [==============================] - 10s 187ms/step - loss: 0.0032\n",
      "Epoch 32/100\n",
      "55/55 [==============================] - 11s 192ms/step - loss: 0.0029\n",
      "Epoch 33/100\n",
      "55/55 [==============================] - 13s 241ms/step - loss: 0.0032\n",
      "Epoch 34/100\n",
      "55/55 [==============================] - 10s 176ms/step - loss: 0.0030\n",
      "Epoch 35/100\n",
      "55/55 [==============================] - 10s 180ms/step - loss: 0.0030\n",
      "Epoch 36/100\n",
      "55/55 [==============================] - 10s 173ms/step - loss: 0.0029\n",
      "Epoch 37/100\n",
      "55/55 [==============================] - 10s 176ms/step - loss: 0.0027\n",
      "Epoch 38/100\n",
      "55/55 [==============================] - 9s 173ms/step - loss: 0.0028\n",
      "Epoch 39/100\n",
      "55/55 [==============================] - 10s 180ms/step - loss: 0.0027\n",
      "Epoch 40/100\n",
      "55/55 [==============================] - 10s 183ms/step - loss: 0.0026\n",
      "Epoch 41/100\n",
      "55/55 [==============================] - 10s 183ms/step - loss: 0.0029\n",
      "Epoch 42/100\n",
      "55/55 [==============================] - 10s 175ms/step - loss: 0.0026\n",
      "Epoch 43/100\n",
      "55/55 [==============================] - 10s 179ms/step - loss: 0.0025\n",
      "Epoch 44/100\n",
      "55/55 [==============================] - 10s 185ms/step - loss: 0.0026\n",
      "Epoch 45/100\n",
      "55/55 [==============================] - 10s 178ms/step - loss: 0.0024\n",
      "Epoch 46/100\n",
      "55/55 [==============================] - 10s 176ms/step - loss: 0.0024\n",
      "Epoch 47/100\n",
      "55/55 [==============================] - 12s 218ms/step - loss: 0.0026\n",
      "Epoch 48/100\n",
      "55/55 [==============================] - 11s 205ms/step - loss: 0.0024\n",
      "Epoch 49/100\n",
      "55/55 [==============================] - 12s 215ms/step - loss: 0.0023\n",
      "Epoch 50/100\n",
      "55/55 [==============================] - 11s 200ms/step - loss: 0.0021\n",
      "Epoch 51/100\n",
      "55/55 [==============================] - 10s 190ms/step - loss: 0.0022\n",
      "Epoch 52/100\n",
      "55/55 [==============================] - 11s 205ms/step - loss: 0.0023\n",
      "Epoch 53/100\n",
      "55/55 [==============================] - 11s 204ms/step - loss: 0.0022\n",
      "Epoch 54/100\n",
      "55/55 [==============================] - 11s 200ms/step - loss: 0.0021\n",
      "Epoch 55/100\n",
      "55/55 [==============================] - 12s 227ms/step - loss: 0.0022\n",
      "Epoch 56/100\n",
      "55/55 [==============================] - 12s 224ms/step - loss: 0.0021\n",
      "Epoch 57/100\n",
      "55/55 [==============================] - 12s 216ms/step - loss: 0.0021\n",
      "Epoch 58/100\n",
      "55/55 [==============================] - 13s 228ms/step - loss: 0.0021\n",
      "Epoch 59/100\n",
      "55/55 [==============================] - 12s 218ms/step - loss: 0.0024\n",
      "Epoch 60/100\n",
      "55/55 [==============================] - 13s 236ms/step - loss: 0.0020\n",
      "Epoch 61/100\n",
      "55/55 [==============================] - 13s 229ms/step - loss: 0.0020\n",
      "Epoch 62/100\n",
      "55/55 [==============================] - 12s 224ms/step - loss: 0.0021\n",
      "Epoch 63/100\n",
      "55/55 [==============================] - 12s 224ms/step - loss: 0.0020\n",
      "Epoch 64/100\n",
      "55/55 [==============================] - 13s 228ms/step - loss: 0.0021\n",
      "Epoch 65/100\n",
      "55/55 [==============================] - 12s 223ms/step - loss: 0.0019\n",
      "Epoch 66/100\n",
      "55/55 [==============================] - 12s 220ms/step - loss: 0.0019\n",
      "Epoch 67/100\n",
      "55/55 [==============================] - 12s 226ms/step - loss: 0.0021\n",
      "Epoch 68/100\n",
      "55/55 [==============================] - 11s 196ms/step - loss: 0.0020\n",
      "Epoch 69/100\n",
      "55/55 [==============================] - 11s 193ms/step - loss: 0.0021\n",
      "Epoch 70/100\n",
      "55/55 [==============================] - 11s 204ms/step - loss: 0.0022\n",
      "Epoch 71/100\n",
      "55/55 [==============================] - 14s 247ms/step - loss: 0.0019\n",
      "Epoch 72/100\n",
      "55/55 [==============================] - 11s 203ms/step - loss: 0.0020\n",
      "Epoch 73/100\n",
      "55/55 [==============================] - 12s 218ms/step - loss: 0.0022\n",
      "Epoch 74/100\n",
      "55/55 [==============================] - 12s 214ms/step - loss: 0.0021\n",
      "Epoch 75/100\n",
      "55/55 [==============================] - 10s 187ms/step - loss: 0.0020\n",
      "Epoch 76/100\n",
      "55/55 [==============================] - 10s 182ms/step - loss: 0.0019\n",
      "Epoch 77/100\n",
      "55/55 [==============================] - 10s 183ms/step - loss: 0.0020\n",
      "Epoch 78/100\n",
      "55/55 [==============================] - 10s 181ms/step - loss: 0.0020\n",
      "Epoch 79/100\n",
      "55/55 [==============================] - 10s 181ms/step - loss: 0.0021\n",
      "Epoch 80/100\n",
      "55/55 [==============================] - 10s 181ms/step - loss: 0.0020\n",
      "Epoch 81/100\n",
      "55/55 [==============================] - 10s 177ms/step - loss: 0.0021\n",
      "Epoch 82/100\n",
      "55/55 [==============================] - 10s 188ms/step - loss: 0.0019\n",
      "Epoch 83/100\n",
      "55/55 [==============================] - 10s 182ms/step - loss: 0.0020\n",
      "Epoch 84/100\n",
      "55/55 [==============================] - 11s 191ms/step - loss: 0.0020\n",
      "Epoch 85/100\n",
      "55/55 [==============================] - 11s 200ms/step - loss: 0.0019\n",
      "Epoch 86/100\n",
      "55/55 [==============================] - 13s 232ms/step - loss: 0.0018\n",
      "Epoch 87/100\n",
      "55/55 [==============================] - 12s 221ms/step - loss: 0.0019\n",
      "Epoch 88/100\n",
      "55/55 [==============================] - 11s 195ms/step - loss: 0.0020\n",
      "Epoch 89/100\n",
      "55/55 [==============================] - 12s 219ms/step - loss: 0.0019\n",
      "Epoch 90/100\n",
      "55/55 [==============================] - 11s 204ms/step - loss: 0.0019\n",
      "Epoch 91/100\n",
      "55/55 [==============================] - 11s 209ms/step - loss: 0.0019\n",
      "Epoch 92/100\n",
      "55/55 [==============================] - 11s 206ms/step - loss: 0.0019\n",
      "Epoch 93/100\n",
      "55/55 [==============================] - 11s 196ms/step - loss: 0.0018\n",
      "Epoch 94/100\n",
      "55/55 [==============================] - 11s 195ms/step - loss: 0.0019\n",
      "Epoch 95/100\n",
      "55/55 [==============================] - 12s 210ms/step - loss: 0.0020\n",
      "Epoch 96/100\n",
      "55/55 [==============================] - 12s 223ms/step - loss: 0.0019\n",
      "Epoch 97/100\n",
      "55/55 [==============================] - 12s 216ms/step - loss: 0.0020\n",
      "Epoch 98/100\n"
     ]
    },
    {
     "name": "stdout",
     "output_type": "stream",
     "text": [
      "55/55 [==============================] - 12s 220ms/step - loss: 0.0019\n",
      "Epoch 99/100\n",
      "55/55 [==============================] - 11s 202ms/step - loss: 0.0019\n",
      "Epoch 100/100\n",
      "55/55 [==============================] - 12s 209ms/step - loss: 0.0019\n"
     ]
    },
    {
     "data": {
      "text/plain": [
       "<keras.callbacks.History at 0x241029e3970>"
      ]
     },
     "execution_count": 21,
     "metadata": {},
     "output_type": "execute_result"
    }
   ],
   "source": [
    "model.compile(optimizer='adam', loss = 'mean_squared_error')\n",
    "model.fit(x_train, y_train, epochs = 100)\n"
   ]
  },
  {
   "cell_type": "code",
   "execution_count": 22,
   "id": "ca84594f",
   "metadata": {},
   "outputs": [],
   "source": [
    "model.save('keras_model.h5')"
   ]
  },
  {
   "cell_type": "code",
   "execution_count": 23,
   "id": "4946f302",
   "metadata": {},
   "outputs": [],
   "source": [
    "past_100_days = data_training.tail(100)"
   ]
  },
  {
   "cell_type": "code",
   "execution_count": 24,
   "id": "b6744d51",
   "metadata": {},
   "outputs": [],
   "source": [
    "final_df = past_100_days.append (data_testing, ignore_index=True)"
   ]
  },
  {
   "cell_type": "code",
   "execution_count": 25,
   "id": "aa3100f8",
   "metadata": {},
   "outputs": [
    {
     "data": {
      "text/html": [
       "<div>\n",
       "<style scoped>\n",
       "    .dataframe tbody tr th:only-of-type {\n",
       "        vertical-align: middle;\n",
       "    }\n",
       "\n",
       "    .dataframe tbody tr th {\n",
       "        vertical-align: top;\n",
       "    }\n",
       "\n",
       "    .dataframe thead th {\n",
       "        text-align: right;\n",
       "    }\n",
       "</style>\n",
       "<table border=\"1\" class=\"dataframe\">\n",
       "  <thead>\n",
       "    <tr style=\"text-align: right;\">\n",
       "      <th></th>\n",
       "      <th>Close</th>\n",
       "    </tr>\n",
       "  </thead>\n",
       "  <tbody>\n",
       "    <tr>\n",
       "      <th>0</th>\n",
       "      <td>29.072500</td>\n",
       "    </tr>\n",
       "    <tr>\n",
       "      <th>1</th>\n",
       "      <td>29.129999</td>\n",
       "    </tr>\n",
       "    <tr>\n",
       "      <th>2</th>\n",
       "      <td>29.315001</td>\n",
       "    </tr>\n",
       "    <tr>\n",
       "      <th>3</th>\n",
       "      <td>29.190001</td>\n",
       "    </tr>\n",
       "    <tr>\n",
       "      <th>4</th>\n",
       "      <td>29.182501</td>\n",
       "    </tr>\n",
       "  </tbody>\n",
       "</table>\n",
       "</div>"
      ],
      "text/plain": [
       "       Close\n",
       "0  29.072500\n",
       "1  29.129999\n",
       "2  29.315001\n",
       "3  29.190001\n",
       "4  29.182501"
      ]
     },
     "execution_count": 25,
     "metadata": {},
     "output_type": "execute_result"
    }
   ],
   "source": [
    "final_df.head()"
   ]
  },
  {
   "cell_type": "code",
   "execution_count": 26,
   "id": "65b588c6",
   "metadata": {},
   "outputs": [
    {
     "data": {
      "text/plain": [
       "array([[7.67699907e-04],\n",
       "       [1.14337489e-03],\n",
       "       [2.35209972e-03],\n",
       "       ...,\n",
       "       [8.90758212e-01],\n",
       "       [8.89320912e-01],\n",
       "       [9.04544111e-01]])"
      ]
     },
     "execution_count": 26,
     "metadata": {},
     "output_type": "execute_result"
    }
   ],
   "source": [
    "scaler = MinMaxScaler(feature_range=(0,1))\n",
    "input_data = scaler.fit_transform(final_df)\n",
    "input_data\n"
   ]
  },
  {
   "cell_type": "code",
   "execution_count": 27,
   "id": "0ba8c057",
   "metadata": {},
   "outputs": [
    {
     "data": {
      "text/plain": [
       "(1339, 1)"
      ]
     },
     "execution_count": 27,
     "metadata": {},
     "output_type": "execute_result"
    }
   ],
   "source": [
    "input_data.shape"
   ]
  },
  {
   "cell_type": "code",
   "execution_count": 28,
   "id": "4ded43f0",
   "metadata": {},
   "outputs": [],
   "source": [
    "x_test = []\n",
    "y_test = []\n",
    "\n",
    "for i in range(100, input_data.shape[0]):\n",
    "    x_test.append (input_data[i-100: i])\n",
    "    y_test.append(input_data[i, 0])\n"
   ]
  },
  {
   "cell_type": "code",
   "execution_count": 29,
   "id": "d32831b3",
   "metadata": {},
   "outputs": [
    {
     "name": "stdout",
     "output_type": "stream",
     "text": [
      "(1239, 100, 1)\n",
      "(1239,)\n"
     ]
    }
   ],
   "source": [
    "x_test, y_test = np.array (x_test), np.array(y_test)\n",
    "print(x_test.shape)\n",
    "print(y_test.shape)"
   ]
  },
  {
   "cell_type": "code",
   "execution_count": 30,
   "id": "3939e5a4",
   "metadata": {},
   "outputs": [],
   "source": [
    "#predictions \n",
    "y_predicted = model.predict(x_test)"
   ]
  },
  {
   "cell_type": "code",
   "execution_count": 31,
   "id": "2f2dedfb",
   "metadata": {},
   "outputs": [
    {
     "data": {
      "text/plain": [
       "array([0.05997843, 0.06082781, 0.06234688, ..., 0.89075821, 0.88932091,\n",
       "       0.90454411])"
      ]
     },
     "execution_count": 31,
     "metadata": {},
     "output_type": "execute_result"
    }
   ],
   "source": [
    "y_test"
   ]
  },
  {
   "cell_type": "code",
   "execution_count": 32,
   "id": "416d3cdb",
   "metadata": {},
   "outputs": [
    {
     "data": {
      "text/plain": [
       "array([[0.12883148],\n",
       "       [0.12905312],\n",
       "       [0.12927815],\n",
       "       ...,\n",
       "       [0.883289  ],\n",
       "       [0.8776832 ],\n",
       "       [0.87276065]], dtype=float32)"
      ]
     },
     "execution_count": 32,
     "metadata": {},
     "output_type": "execute_result"
    }
   ],
   "source": [
    "y_predicted"
   ]
  },
  {
   "cell_type": "code",
   "execution_count": 33,
   "id": "fd3130c9",
   "metadata": {},
   "outputs": [
    {
     "data": {
      "text/plain": [
       "array([0.0065336])"
      ]
     },
     "execution_count": 33,
     "metadata": {},
     "output_type": "execute_result"
    }
   ],
   "source": [
    "scaler.scale_"
   ]
  },
  {
   "cell_type": "code",
   "execution_count": 34,
   "id": "e4d0fe23",
   "metadata": {},
   "outputs": [],
   "source": [
    "scale_factor = 1/0.0065336\n",
    "y_predicted = y_predicted * scale_factor\n",
    "y_test = y_test * scale_factor\n",
    "\n"
   ]
  },
  {
   "cell_type": "code",
   "execution_count": 35,
   "id": "01c71c3b",
   "metadata": {},
   "outputs": [
    {
     "data": {
      "image/png": "[encoded data removed]",
      "text/plain": [
       "<Figure size 864x432 with 1 Axes>"
      ]
     },
     "metadata": {
      "needs_background": "light"
     },
     "output_type": "display_data"
    }
   ],
   "source": [
    "plt.figure(figsize=(12,6))\n",
    "plt.plot(y_test, 'b', label = 'Original Price')\n",
    "plt.plot(y_predicted, 'r', label = 'Predicted Price')\n",
    "plt.xlabel('Time')\n",
    "plt.ylabel('Price')\n",
    "plt.legend ()\n",
    "plt.show()\n"
   ]
  },
  {
   "cell_type": "code",
   "execution_count": null,
   "id": "87d9869a",
   "metadata": {},
   "outputs": [],
   "source": []
  }
 ],
 "metadata": {
  "kernelspec": {
   "display_name": "Python 3 (ipykernel)",
   "language": "python",
   "name": "python3"
  },
  "language_info": {
   "codemirror_mode": {
    "name": "ipython",
    "version": 3
   },
   "file_extension": ".py",
   "mimetype": "text/x-python",
   "name": "python",
   "nbconvert_exporter": "python",
   "pygments_lexer": "ipython3",
   "version": "3.9.7"
  }
 },
 "nbformat": 4,
 "nbformat_minor": 5
}
